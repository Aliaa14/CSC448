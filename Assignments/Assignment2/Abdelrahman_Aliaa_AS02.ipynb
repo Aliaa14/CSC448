{
 "cells": [
  {
   "cell_type": "markdown",
   "metadata": {},
   "source": [
    "## Aliaa Abdelrahman\n",
    "----------------------------------------------------\n",
    "\n",
    "    This was an assignment from a class was taken last semester, scintific programming class CSC301. This assignment was about calculate summation using the two methods, naive summation and compensated summation. Performing the summations for N = 104 ,105 ,106 ,107 , and 108 . Using  math.sqrt(13.0) for the value of square root of 13. \n"
   ]
  },
  {
   "cell_type": "markdown",
   "metadata": {},
   "source": [
    "# Naïve Summation\n",
    "\n",
    "#### Summation when N = 10000 (10^4)"
   ]
  },
  {
   "cell_type": "code",
   "execution_count": 762,
   "metadata": {},
   "outputs": [],
   "source": [
    "import math\n",
    "import time\n",
    "\n",
    "NSummation1 = 0\n",
    "N1 = pow(10,4)\n",
    "NS_start_time1 = time.time()\n",
    "\n",
    "for i in range(1,N1):\n",
    "    NSummation1 += math.sqrt(13.0)  \n",
    "    \n",
    "NS_end_time1 = time.time()\n",
    "NS_elapsed_time1 = (NS_end_time1 - NS_start_time1)"
   ]
  },
  {
   "cell_type": "markdown",
   "metadata": {},
   "source": [
    "#### Exact Sum, Absolute Error, Relative Error"
   ]
  },
  {
   "cell_type": "code",
   "execution_count": 717,
   "metadata": {},
   "outputs": [],
   "source": [
    "NS_exactSum1 = N1 * math.sqrt(13.0) \n",
    "\n",
    "NS_AbsErr1 = abs(NSummation1 - NS_exactSum1)\n",
    "\n",
    "NS_RelErr1 = NS_AbsErr1 / NS_exactSum1"
   ]
  },
  {
   "cell_type": "markdown",
   "metadata": {},
   "source": [
    "----------------------------------------------------\n",
    "----------------------------------------------------\n",
    "\n",
    "\n",
    "#### Summation when N = 100000 (10^5)"
   ]
  },
  {
   "cell_type": "code",
   "execution_count": 718,
   "metadata": {},
   "outputs": [],
   "source": [
    "NSummation2 = 0\n",
    "N2 = pow(10,5)\n",
    "NS_start_time2 = time.time()\n",
    "\n",
    "for i in range(1,N2):\n",
    "    NSummation2 += math.sqrt(13.0) \n",
    "    \n",
    "NS_end_time2 = time.time()\n",
    "NS_elapsed_time2 = (NS_end_time2 - NS_start_time2)"
   ]
  },
  {
   "cell_type": "markdown",
   "metadata": {},
   "source": [
    "#### Exact Sum, Absolute Error, Relative Error"
   ]
  },
  {
   "cell_type": "code",
   "execution_count": 719,
   "metadata": {},
   "outputs": [],
   "source": [
    "NS_exactSum2 = N2 * math.sqrt(13.0) \n",
    "\n",
    "NS_AbsErr2 = abs(NSummation2 - NS_exactSum2)\n",
    "\n",
    "NS_RelErr2 = NS_AbsErr2 / NS_exactSum2"
   ]
  },
  {
   "cell_type": "markdown",
   "metadata": {},
   "source": [
    "----------------------------------------------------\n",
    "----------------------------------------------------\n",
    "\n",
    "#### Summation when N = 1000000 (10^6)"
   ]
  },
  {
   "cell_type": "code",
   "execution_count": 720,
   "metadata": {},
   "outputs": [],
   "source": [
    "NSummation3 = 0\n",
    "N3 = pow(10,6)\n",
    "NS_start_time3 = time.time()\n",
    "\n",
    "for i in range(1,N3):\n",
    "    NSummation3 += math.sqrt(13.0) \n",
    "    \n",
    "NS_end_time3 = time.time()\n",
    "NS_elapsed_time3 = (NS_end_time3 - NS_start_time3)"
   ]
  },
  {
   "cell_type": "markdown",
   "metadata": {},
   "source": [
    "#### Exact Sum, Absolute Error, Relative Error"
   ]
  },
  {
   "cell_type": "code",
   "execution_count": 721,
   "metadata": {},
   "outputs": [],
   "source": [
    "NS_exactSum3 = N3 * math.sqrt(13.0) \n",
    "\n",
    "NS_AbsErr3 = abs(NSummation3 - NS_exactSum3)\n",
    "\n",
    "NS_RelErr3 = NS_AbsErr3 / NS_exactSum3"
   ]
  },
  {
   "cell_type": "markdown",
   "metadata": {},
   "source": [
    "----------------------------------------------------\n",
    "----------------------------------------------------\n",
    "\n",
    "#### Summation when N = 10000000 (10^7)"
   ]
  },
  {
   "cell_type": "code",
   "execution_count": 722,
   "metadata": {},
   "outputs": [],
   "source": [
    "NSummation4 = 0\n",
    "N4 = pow(10,7)\n",
    "NS_start_time4 = time.time()\n",
    "\n",
    "for i in range(1,N4):\n",
    "    NSummation4 += math.sqrt(13.0) \n",
    "    \n",
    "NS_end_time4 = time.time()\n",
    "NS_elapsed_time4 = (NS_end_time4 - NS_start_time4)"
   ]
  },
  {
   "cell_type": "markdown",
   "metadata": {},
   "source": [
    "#### Exact Sum, Absolute Error, Relative Error"
   ]
  },
  {
   "cell_type": "code",
   "execution_count": 723,
   "metadata": {},
   "outputs": [],
   "source": [
    "NS_exactSum4 = N4 * math.sqrt(13.0) \n",
    "\n",
    "NS_AbsErr4 = abs(NSummation4 - NS_exactSum4)\n",
    "\n",
    "NS_RelErr4 = NS_AbsErr4 / NS_exactSum4"
   ]
  },
  {
   "cell_type": "markdown",
   "metadata": {},
   "source": [
    "----------------------------------------------------\n",
    "----------------------------------------------------\n",
    "\n",
    "#### Summation when N = 100000000 (10^8)"
   ]
  },
  {
   "cell_type": "code",
   "execution_count": 724,
   "metadata": {},
   "outputs": [
    {
     "name": "stdout",
     "output_type": "stream",
     "text": [
      "11.619740009307861\n"
     ]
    }
   ],
   "source": [
    "NSummation5 = 0\n",
    "N5 = pow(10,8)\n",
    "NS_start_time5 = time.time()\n",
    "\n",
    "for i in range(1,N5):\n",
    "    NSummation5 += math.sqrt(13.0) \n",
    "    \n",
    "NS_end_time5 = time.time()\n",
    "NS_elapsed_time5 = (NS_end_time5 - NS_start_time5)\n",
    "print(NS_elapsed_time5)"
   ]
  },
  {
   "cell_type": "markdown",
   "metadata": {},
   "source": [
    "#### Exact Sum, Absolute Error, Relative Error"
   ]
  },
  {
   "cell_type": "code",
   "execution_count": 725,
   "metadata": {},
   "outputs": [],
   "source": [
    "NS_exactSum5 = N5 * math.sqrt(13.0) \n",
    "\n",
    "NS_AbsErr5 = abs(NSummation5 - NS_exactSum5)\n",
    "\n",
    "NS_RelErr5 = NS_AbsErr5 / NS_exactSum5"
   ]
  },
  {
   "cell_type": "markdown",
   "metadata": {},
   "source": [
    "----------------------------------------------------\n",
    "----------------------------------------------------\n",
    "----------------------------------------------------\n",
    "----------------------------------------------------\n",
    "\n",
    "\n",
    "# Compensated Summation\n",
    "\n",
    "#### Summation when N = 10000 (10^4)"
   ]
  },
  {
   "cell_type": "code",
   "execution_count": 726,
   "metadata": {},
   "outputs": [],
   "source": [
    "CSummation1 = 0 \n",
    "e1 = 0\n",
    "n1 = pow(10,4)\n",
    "CS_start_time1 = time.time()\n",
    "\n",
    "for i in range(n1): \n",
    "    temp1 = CSummation1\n",
    "    y1 = math.sqrt(13.0) + e1\n",
    "    CSummation1 = temp1 + y1 \n",
    "    e1 = (temp1 - CSummation1) + y1\n",
    "CSummation1 += e1\n",
    "\n",
    "CS_end_time1 = time.time()\n",
    "CS_elapsed_time1 = (CS_end_time1 - CS_start_time1)"
   ]
  },
  {
   "cell_type": "markdown",
   "metadata": {},
   "source": [
    "#### Exact Sum, Absolute Error, Relative Error"
   ]
  },
  {
   "cell_type": "code",
   "execution_count": 727,
   "metadata": {},
   "outputs": [],
   "source": [
    "CS_exactSum1 = n1 * math.sqrt(13.0) \n",
    "\n",
    "CS_AbsErr1 = abs(CSummation1 - CS_exactSum1)\n",
    "\n",
    "CS_RelErr1 = CS_AbsErr1 / CS_exactSum1"
   ]
  },
  {
   "cell_type": "markdown",
   "metadata": {},
   "source": [
    "----------------------------------------------------\n",
    "----------------------------------------------------\n",
    "\n",
    "#### Summation when N = 100000 (10^5)"
   ]
  },
  {
   "cell_type": "code",
   "execution_count": 728,
   "metadata": {},
   "outputs": [],
   "source": [
    "CSummation2 = 0 \n",
    "e2 = 0\n",
    "n2 = pow(10,5)\n",
    "CS_start_time2 = time.time()\n",
    "\n",
    "for i in range(n2): \n",
    "    temp2 = CSummation2\n",
    "    y2 = math.sqrt(13.0) + e2\n",
    "    CSummation2 = temp2 + y2 \n",
    "    e2 = (temp2 - CSummation2) + y2\n",
    "CSummation2 += e2\n",
    "\n",
    "CS_end_time2 = time.time()\n",
    "CS_elapsed_time2 = (CS_end_time2 - CS_start_time2)"
   ]
  },
  {
   "cell_type": "markdown",
   "metadata": {},
   "source": [
    "#### Exact Sum, Absolute Error, Relative Error"
   ]
  },
  {
   "cell_type": "code",
   "execution_count": 729,
   "metadata": {},
   "outputs": [],
   "source": [
    "CS_exactSum2 = n2 * math.sqrt(13.0) \n",
    "\n",
    "CS_AbsErr2 = abs(CSummation2 - CS_exactSum2)\n",
    "\n",
    "CS_RelErr2 = CS_AbsErr2 / CS_exactSum2"
   ]
  },
  {
   "cell_type": "markdown",
   "metadata": {},
   "source": [
    "----------------------------------------------------\n",
    "----------------------------------------------------\n",
    "\n",
    "#### Summation when N = 1000000 (10^6)"
   ]
  },
  {
   "cell_type": "code",
   "execution_count": 730,
   "metadata": {},
   "outputs": [],
   "source": [
    "CSummation3 = 0 \n",
    "e3 = 0\n",
    "n3 = pow(10,6)\n",
    "CS_start_time3 = time.time()\n",
    "\n",
    "for i in range(n3): \n",
    "    temp3 = CSummation3\n",
    "    y3 = math.sqrt(13.0) + e3\n",
    "    CSummation3 = temp3 + y3 \n",
    "    e3 = (temp3 - CSummation3) + y3\n",
    "CSummation3 += e3\n",
    "\n",
    "CS_end_time3 = time.time()\n",
    "CS_elapsed_time3 = (CS_end_time3 - CS_start_time3)"
   ]
  },
  {
   "cell_type": "markdown",
   "metadata": {},
   "source": [
    "#### Exact Sum, Absolute Error, Relative Error"
   ]
  },
  {
   "cell_type": "code",
   "execution_count": 731,
   "metadata": {},
   "outputs": [],
   "source": [
    "CS_exactSum3 = n3 * math.sqrt(13.0) \n",
    "\n",
    "CS_AbsErr3 = abs(CSummation3 - CS_exactSum3)\n",
    "\n",
    "CS_RelErr3 = CS_AbsErr3 / CS_exactSum3"
   ]
  },
  {
   "cell_type": "markdown",
   "metadata": {},
   "source": [
    "----------------------------------------------------\n",
    "----------------------------------------------------\n",
    "\n",
    "#### Summation when N = 10000000 (10^7)"
   ]
  },
  {
   "cell_type": "code",
   "execution_count": 732,
   "metadata": {},
   "outputs": [],
   "source": [
    "CSummation4 = 0 \n",
    "e4 = 0\n",
    "n4 = pow(10,7)\n",
    "CS_start_time4 = time.time()\n",
    "\n",
    "for i in range(n4): \n",
    "    temp4 = CSummation4\n",
    "    y4 = math.sqrt(13.0) + e4\n",
    "    CSummation4 = temp4 + y4 \n",
    "    e4 = (temp4 - CSummation4) + y4\n",
    "CSummation4 += e4\n",
    "\n",
    "CS_end_time4 = time.time()"
   ]
  },
  {
   "cell_type": "markdown",
   "metadata": {},
   "source": [
    "#### Exact Sum, Absolute Error, Relative Error"
   ]
  },
  {
   "cell_type": "code",
   "execution_count": 733,
   "metadata": {},
   "outputs": [],
   "source": [
    "CS_exactSum4 = n4 * math.sqrt(13.0) \n",
    "\n",
    "CS_AbsErr4 = abs(CSummation4 - CS_exactSum4)\n",
    "\n",
    "CS_RelErr4 = CS_AbsErr4 / CS_exactSum4"
   ]
  },
  {
   "cell_type": "markdown",
   "metadata": {},
   "source": [
    "----------------------------------------------------\n",
    "----------------------------------------------------\n",
    "\n",
    "#### Summation when N = 100000000 (10^8)"
   ]
  },
  {
   "cell_type": "code",
   "execution_count": 734,
   "metadata": {},
   "outputs": [],
   "source": [
    "CSummation5 = 0 \n",
    "e5 = 0\n",
    "n5 = pow(10,8)\n",
    "CS_start_time5 = time.time()\n",
    "\n",
    "for i in range(n5): \n",
    "    temp5 = CSummation5\n",
    "    y5 = math.sqrt(13.0) + e5\n",
    "    CSummation5 = temp5 + y5\n",
    "    e5 = (temp5 - CSummation5) + y5\n",
    "CSummation5 += e5\n",
    "\n",
    "CS_end_time5 = time.time()\n",
    "CS_elapsed_time5 = (CS_end_time5 - CS_start_time5)"
   ]
  },
  {
   "cell_type": "markdown",
   "metadata": {},
   "source": [
    "#### Exact Sum, Absolute Error, Relative Error"
   ]
  },
  {
   "cell_type": "code",
   "execution_count": 735,
   "metadata": {},
   "outputs": [],
   "source": [
    "CS_exactSum5 = n5 * math.sqrt(13.0) \n",
    "\n",
    "CS_AbsErr5 = abs(CSummation5 - CS_exactSum5)\n",
    "\n",
    "CS_RelErr5 = CS_AbsErr5 / CS_exactSum5"
   ]
  },
  {
   "cell_type": "markdown",
   "metadata": {},
   "source": [
    "----------------------------------------------------\n",
    "----------------------------------------------------\n",
    "----------------------------------------------------\n",
    "----------------------------------------------------\n",
    "\n",
    "\n",
    "# Summary Tables"
   ]
  },
  {
   "cell_type": "code",
   "execution_count": 761,
   "metadata": {},
   "outputs": [
    {
     "name": "stdout",
     "output_type": "stream",
     "text": [
      "\n",
      "\n",
      "\t\t\t\t\tNaïve Summation \n",
      "---------------------------------------------------------------------------------------------------------------\n",
      "|   N\t    |\tSummation  \t  |   Elapsed Time(s)       | \tAbsolute Error      |  Relative Error(%)      |\n",
      "---------------------------------------------------------------------------------------------------------------\n",
      "| 10000     |  36051.907203366056 |  0.0012440681457519531  |  3.6055512738385005   |  9.999999995491705e-05  |\n",
      "---------------------------------------------------------------------------------------------------------------\n",
      "| 100000    |  360551.52199532307 |  0.019057750701904297   |  3.60555107583059     |  9.999999446316573e-06  |\n",
      "---------------------------------------------------------------------------------------------------------------\n",
      "| 1000000   |  3605547.66988016   |  0.1281290054321289     |  3.6055838288739324   |  1.0000090286914418e-06 |\n",
      "---------------------------------------------------------------------------------------------------------------\n",
      "| 10000000  |  36055509.15326438  |  1.1369941234588623     |  3.601375512778759    |  9.988418518095564e-08  |\n",
      "---------------------------------------------------------------------------------------------------------------\n",
      "| 100000000 |  360555124.45145804 |  11.619740009307861     |  3.0949409008026123   |  8.583821624903482e-09  |\n",
      "---------------------------------------------------------------------------------------------------------------\n",
      "\n",
      "\n",
      "\t\t\t\t     Compensated Summation \n",
      "------------------------------------------------------------------------------------------------------\n",
      "|   N\t    |  \tSummation  \t   |   Elapsed Time(s)       | \tAbsolute Error  |  Relative Error(%) |\n",
      "------------------------------------------------------------------------------------------------------\n",
      "| 10000     |  36055.512754639894  | 0.005194902420043945    |\t    0.0 \t|\t 0.0 \t     |\n",
      "------------------------------------------------------------------------------------------------------\n",
      "| 100000    |  360555.1275463989   | 0.03435397148132324     |\t    0.0 \t|\t 0.0 \t     |\n",
      "------------------------------------------------------------------------------------------------------\n",
      "| 1000000   |  3605551.275463989   |  0.24778103828430176    |\t    0.0 \t|\t 0.0 \t     |\n",
      "------------------------------------------------------------------------------------------------------\n",
      "| 10000000  |  36055512.754639894  |  2.372360944747925      |\t    0.0 \t|\t 0.0 \t     |\n",
      "------------------------------------------------------------------------------------------------------\n",
      "| 100000000 |  360555127.54639894  |  22.57465386390686      |\t    0.0 \t|\t 0.0 \t     |\n",
      "------------------------------------------------------------------------------------------------------\n"
     ]
    }
   ],
   "source": [
    "print()\n",
    "print()\n",
    "print(\"\\t\\t\\t\\t\\tNaïve Summation \")\n",
    "\n",
    "print(\"---------------------------------------------------------------------------------------------------------------\")\n",
    "print(\"|   N\\t\",\"   |\\tSummation \",\"\\t  |   Elapsed Time(s)  \", \"    |\",\"\\tAbsolute Error   \", \"  |\",\" Relative Error(%) \",\"    |\")  \n",
    "print(\"---------------------------------------------------------------------------------------------------------------\")\n",
    "\n",
    "\n",
    "print(\"|\",N1,\"    | \",NSummation1,\"| \",NS_elapsed_time1,\" | \",NS_AbsErr1,\"  | \",NS_RelErr1,\" |\")\n",
    "print(\"---------------------------------------------------------------------------------------------------------------\")\n",
    "\n",
    "print(\"|\",N2,\"   | \",NSummation2,\"| \",NS_elapsed_time2,\"  | \",NS_AbsErr2,\"    | \",NS_RelErr2,\" |\")\n",
    "print(\"---------------------------------------------------------------------------------------------------------------\")\n",
    "\n",
    "\n",
    "print(\"|\",N3,\"  | \",NSummation3,\"  | \",NS_elapsed_time3,\"    | \",NS_AbsErr3,\"  | \",NS_RelErr3,\"|\")\n",
    "print(\"---------------------------------------------------------------------------------------------------------------\")\n",
    "\n",
    "\n",
    "print(\"|\",N4,\" | \",NSummation4,\" | \",NS_elapsed_time4,\"    | \",NS_AbsErr4,\"   | \",NS_RelErr4,\" |\")\n",
    "print(\"---------------------------------------------------------------------------------------------------------------\")\n",
    "\n",
    "\n",
    "print(\"|\",N5,\"| \",NSummation5,\"| \",NS_elapsed_time5,\"    | \",NS_AbsErr5,\"  | \",NS_RelErr5,\" |\")\n",
    "print(\"---------------------------------------------------------------------------------------------------------------\")\n",
    "\n",
    "\n",
    "#---------------------------------------------------------------------------------------------------------------\n",
    "\n",
    "\n",
    "print()\n",
    "print()\n",
    "print(\"\\t\\t\\t\\t     Compensated Summation \")\n",
    "print(\"------------------------------------------------------------------------------------------------------\")\n",
    "print(\"|   N\\t\",\"   |  \\tSummation \",\"\\t   |   Elapsed Time(s)  \", \"    |\",\"\\tAbsolute Error\", \" |\",\" Relative Error(%)\",\"|\")  \n",
    "print(\"------------------------------------------------------------------------------------------------------\")\n",
    "\n",
    "\n",
    "print(\"|\",n1,\"    | \",CSummation1,\" |\",CS_elapsed_time1,\"   |\\t   \",CS_AbsErr1,\"\\t|\\t\",CS_RelErr1,\"\\t     |\")\n",
    "print(\"------------------------------------------------------------------------------------------------------\")\n",
    "\n",
    "print(\"|\",n2,\"   | \",CSummation2,\"  |\",CS_elapsed_time2,\"    |\\t   \",CS_AbsErr2,\"\\t|\\t\",CS_RelErr2,\"\\t     |\")\n",
    "print(\"------------------------------------------------------------------------------------------------------\")\n",
    "\n",
    "\n",
    "print(\"|\",n3,\"  | \",CSummation3,\"  | \",CS_elapsed_time3,\"   |\\t   \",CS_AbsErr3,\"\\t|\\t\",CS_RelErr3,\"\\t     |\")\n",
    "print(\"------------------------------------------------------------------------------------------------------\")\n",
    "\n",
    "\n",
    "print(\"|\",n4,\" | \",CSummation4,\" | \",CS_elapsed_time4,\"     |\\t   \",CS_AbsErr4,\"\\t|\\t\",CS_RelErr4,\"\\t     |\")\n",
    "print(\"------------------------------------------------------------------------------------------------------\")\n",
    "\n",
    "\n",
    "print(\"|\",n5,\"| \",CSummation5,\" | \",CS_elapsed_time5,\"     |\\t   \",CS_AbsErr5,\"\\t|\\t\",CS_RelErr5,\"\\t     |\")\n",
    "print(\"------------------------------------------------------------------------------------------------------\")"
   ]
  },
  {
   "cell_type": "markdown",
   "metadata": {},
   "source": [
    "## Conclusion \n",
    "\n",
    "According to the results in tables we can see that the bigger the exponent is the longer time it takes to calculate the summations. However, the faster it is the more chance the error could occur. For instance, when calculating the sunnation of 100000000 (10^8), using the Naive summation was faster to calculate where in compensated summation it took twice the time of Naive. However, Naive summation had absolute and relative errors, on the other hand, Compensated summation had no errors at all. So, compensated summation is more accurate and efficient to use tham Naive summation."
   ]
  }
 ],
 "metadata": {
  "kernelspec": {
   "display_name": "Python 3",
   "language": "python",
   "name": "python3"
  },
  "language_info": {
   "codemirror_mode": {
    "name": "ipython",
    "version": 3
   },
   "file_extension": ".py",
   "mimetype": "text/x-python",
   "name": "python",
   "nbconvert_exporter": "python",
   "pygments_lexer": "ipython3",
   "version": "3.8.5"
  }
 },
 "nbformat": 4,
 "nbformat_minor": 4
}
